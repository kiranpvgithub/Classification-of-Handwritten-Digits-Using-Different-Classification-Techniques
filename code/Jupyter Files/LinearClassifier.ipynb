{
 "cells": [
  {
   "cell_type": "code",
   "execution_count": 2,
   "metadata": {
    "collapsed": true
   },
   "outputs": [],
   "source": [
    "#importing the required libraries\n",
    "import sys\n",
    "import numpy as np\n",
    "from sklearn.metrics import accuracy_score, confusion_matrix\n",
    "import matplotlib.pyplot as plt\n",
    "from matplotlib import style\n",
    "from sklearn.model_selection import cross_val_score\n",
    "from sklearn import model_selection\n",
    "from sklearn.linear_model import SGDClassifier\n",
    "style.use('ggplot')"
   ]
  },
  {
   "cell_type": "code",
   "execution_count": 3,
   "metadata": {
    "collapsed": true
   },
   "outputs": [],
   "source": [
    "#Importing the MNIST data set\n",
    "from sklearn.datasets import fetch_mldata\n",
    "mnist = fetch_mldata('MNIST original')\n",
    "X, y = mnist[\"data\"], mnist[\"target\"]"
   ]
  },
  {
   "cell_type": "code",
   "execution_count": 4,
   "metadata": {
    "collapsed": true
   },
   "outputs": [],
   "source": [
    "#Splitting the dataset into training set and testing set\n",
    "X_train, X_test, y_train, y_test = X[:56000], X[56000:], y[:56000], y[56000:]"
   ]
  },
  {
   "cell_type": "code",
   "execution_count": 5,
   "metadata": {
    "collapsed": true
   },
   "outputs": [],
   "source": [
    "#Building the Linear classifier model by changing the n_iter as the hyperparameter\n",
    "# Used the cros_val_score cross validation method\n",
    "# For every n_iter values accuracy of all the 3 folds and their average is calculated"
   ]
  },
  {
   "cell_type": "code",
   "execution_count": 87,
   "metadata": {},
   "outputs": [
    {
     "name": "stdout",
     "output_type": "stream",
     "text": [
      "Iterations No: 1\n",
      "1st fold accuracy- 87.02%\n",
      "2nd fold accuracy- 87.21%\n",
      "3rd fold accuracy- 84.76%\n",
      "Average fold accuracy- 86.33%\n",
      "Iterations No: 2\n",
      "1st fold accuracy- 86.34%\n",
      "2nd fold accuracy- 87.05%\n",
      "3rd fold accuracy- 83.64%\n",
      "Average fold accuracy- 85.67%\n",
      "Iterations No: 3\n",
      "1st fold accuracy- 85.90%\n",
      "2nd fold accuracy- 84.06%\n",
      "3rd fold accuracy- 84.45%\n",
      "Average fold accuracy- 84.80%\n",
      "Iterations No: 4\n",
      "1st fold accuracy- 86.59%\n",
      "2nd fold accuracy- 81.29%\n",
      "3rd fold accuracy- 87.88%\n",
      "Average fold accuracy- 85.26%\n",
      "Iterations No: 5\n",
      "1st fold accuracy- 84.91%\n",
      "2nd fold accuracy- 86.12%\n",
      "3rd fold accuracy- 87.15%\n",
      "Average fold accuracy- 86.06%\n",
      "Iterations No: 6\n",
      "1st fold accuracy- 85.61%\n",
      "2nd fold accuracy- 87.67%\n",
      "3rd fold accuracy- 88.13%\n",
      "Average fold accuracy- 87.13%\n",
      "Iterations No: 7\n",
      "1st fold accuracy- 87.83%\n",
      "2nd fold accuracy- 88.20%\n",
      "3rd fold accuracy- 87.55%\n",
      "Average fold accuracy- 87.86%\n",
      "Iterations No: 8\n",
      "1st fold accuracy- 84.80%\n",
      "2nd fold accuracy- 85.86%\n",
      "3rd fold accuracy- 85.24%\n",
      "Average fold accuracy- 85.30%\n",
      "Iterations No: 9\n",
      "1st fold accuracy- 87.83%\n",
      "2nd fold accuracy- 87.30%\n",
      "3rd fold accuracy- 85.64%\n",
      "Average fold accuracy- 86.92%\n",
      "Iterations No: 10\n",
      "1st fold accuracy- 88.35%\n",
      "2nd fold accuracy- 88.45%\n",
      "3rd fold accuracy- 85.35%\n",
      "Average fold accuracy- 87.38%\n"
     ]
    }
   ],
   "source": [
    "for i in range(1,11):\n",
    "    clf = SGDClassifier(random_state = 42, n_iter=i)\n",
    "    train_acc = cross_val_score(clf, X_train, y_train, cv=3, scoring=\"accuracy\")\n",
    "    print(\"Iterations No: \" +str(i))\n",
    "    print(\"1st fold accuracy- %.2f%%\" %(100*train_acc[0]))  \n",
    "    print(\"2nd fold accuracy- %.2f%%\" %(100*train_acc[1]))\n",
    "    print(\"3rd fold accuracy- %.2f%%\" %(100*train_acc[2]))\n",
    "    print(\"Average fold accuracy- %.2f%%\" %((100*train_acc[2] + 100*train_acc[1] + 100*train_acc[0])/3))"
   ]
  },
  {
   "cell_type": "code",
   "execution_count": 88,
   "metadata": {
    "collapsed": true
   },
   "outputs": [],
   "source": [
    "#Choosing the suitable n_iter values\n",
    "#Performing the accuracy test on the training data"
   ]
  },
  {
   "cell_type": "code",
   "execution_count": 6,
   "metadata": {},
   "outputs": [
    {
     "name": "stdout",
     "output_type": "stream",
     "text": [
      "Training Accuracy: 87.86%\n"
     ]
    }
   ],
   "source": [
    "clf = SGDClassifier(random_state =42, n_iter=7)\n",
    "from sklearn.model_selection import cross_val_predict\n",
    "y_train_pred = cross_val_predict(clf, X_train, y_train, cv=3)\n",
    "accuracy = accuracy_score(y_train, y_train_pred)\n",
    "print(\"Training Accuracy: %.2f%%\" % (accuracy*100))"
   ]
  },
  {
   "cell_type": "code",
   "execution_count": 7,
   "metadata": {
    "collapsed": true
   },
   "outputs": [],
   "source": [
    "#Printing the confusion matrix for the training set\n"
   ]
  },
  {
   "cell_type": "code",
   "execution_count": 8,
   "metadata": {},
   "outputs": [
    {
     "data": {
      "image/png": "[encoded data removed]",
      "text/plain": [
       "<matplotlib.figure.Figure at 0x10c32e588>"
      ]
     },
     "metadata": {},
     "output_type": "display_data"
    }
   ],
   "source": [
    "train_conf_mat = confusion_matrix(y_train,y_train_pred)\n",
    "plt.matshow(train_conf_mat)\n",
    "plt.title('Confusion Matrix for Training Data')\n",
    "plt.colorbar()\n",
    "plt.ylabel('True label')\n",
    "plt.xlabel('Predicted label')\n",
    "plt.show()"
   ]
  },
  {
   "cell_type": "code",
   "execution_count": 9,
   "metadata": {
    "collapsed": true
   },
   "outputs": [],
   "source": [
    "#Priting the error values of the confusion matrix"
   ]
  },
  {
   "cell_type": "code",
   "execution_count": 10,
   "metadata": {
    "collapsed": true
   },
   "outputs": [],
   "source": [
    "import seaborn as sns\n",
    "val_row= train_conf_mat.sum(axis=1, keepdims=True)\n",
    "train_err_conf_mat = train_conf_mat / val_row\n",
    "np.fill_diagonal(train_err_conf_mat, 0)\n",
    "ax = sns.heatmap(train_err_conf_mat,annot=True)"
   ]
  },
  {
   "cell_type": "code",
   "execution_count": 11,
   "metadata": {
    "collapsed": true
   },
   "outputs": [],
   "source": [
    "#Chose the suitable n_iter and performing the fit\n",
    "#Testing the model\n",
    "#Calculating the accuracy of the test data"
   ]
  },
  {
   "cell_type": "code",
   "execution_count": 12,
   "metadata": {},
   "outputs": [
    {
     "name": "stdout",
     "output_type": "stream",
     "text": [
      "Test Data Accuracy: 85.10%\n"
     ]
    }
   ],
   "source": [
    "clf = SGDClassifier(random_state =42, n_iter=7)\n",
    "clf.fit(X_train, y_train)\n",
    "y_pred_test = clf.predict(X_test)\n",
    "accuracy = accuracy_score(y_test, y_pred_test)\n",
    "print(\"Test Data Accuracy: %.2f%%\" % (accuracy*100))"
   ]
  },
  {
   "cell_type": "code",
   "execution_count": 13,
   "metadata": {
    "collapsed": true
   },
   "outputs": [],
   "source": [
    "#Printing the confusion matrix"
   ]
  },
  {
   "cell_type": "code",
   "execution_count": 15,
   "metadata": {},
   "outputs": [
    {
     "data": {
      "image/png": "[encoded data removed]",
      "text/plain": [
       "<matplotlib.figure.Figure at 0x10394f630>"
      ]
     },
     "metadata": {},
     "output_type": "display_data"
    }
   ],
   "source": [
    "test_conf_mat = confusion_matrix(y_test,y_pred_test)\n",
    "plt.matshow(test_conf_mat)\n",
    "plt.title('Confusion Matrix for Testing Data')\n",
    "plt.colorbar()\n",
    "plt.ylabel('True label')\n",
    "plt.xlabel('Predicted label')\n",
    "plt.show()"
   ]
  },
  {
   "cell_type": "code",
   "execution_count": null,
   "metadata": {
    "collapsed": true
   },
   "outputs": [],
   "source": [
    "#Priting the error values of the confusion matrix"
   ]
  },
  {
   "cell_type": "code",
   "execution_count": 19,
   "metadata": {
    "collapsed": true
   },
   "outputs": [],
   "source": [
    "row_sums = test_conf_mat.sum(axis=1, keepdims=True)\n",
    "norm_conf_mx = test_conf_mat / row_sums\n",
    "np.fill_diagonal(norm_conf_mx, 0)\n",
    "ax = sns.heatmap(norm_conf_mx,annot=True)"
   ]
  }
 ],
 "metadata": {
  "kernelspec": {
   "display_name": "Python 3",
   "language": "python",
   "name": "python3"
  },
  "language_info": {
   "codemirror_mode": {
    "name": "ipython",
    "version": 3
   },
   "file_extension": ".py",
   "mimetype": "text/x-python",
   "name": "python",
   "nbconvert_exporter": "python",
   "pygments_lexer": "ipython3",
   "version": "3.6.1"
  }
 },
 "nbformat": 4,
 "nbformat_minor": 2
}
